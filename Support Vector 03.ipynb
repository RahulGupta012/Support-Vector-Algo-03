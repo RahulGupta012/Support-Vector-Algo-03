{
 "cells": [
  {
   "cell_type": "markdown",
   "id": "5a4fbc90-f0a5-409f-86a2-985b1c0f6c67",
   "metadata": {},
   "source": [
    "# Support Vector 03"
   ]
  },
  {
   "cell_type": "markdown",
   "id": "f3174301-2733-4f83-a861-9340fd92eb05",
   "metadata": {},
   "source": [
    "________________________________________"
   ]
  },
  {
   "cell_type": "markdown",
   "id": "91df6f49-3cae-4e4a-8a4d-d53827a7061c",
   "metadata": {},
   "source": [
    "# Q1. In order to predict house price based on several characteristics, such as location, square footage, number of bedrooms, etc., you are developing an SVM regression model. Which regression metric in this situation would be the best to employ?"
   ]
  },
  {
   "cell_type": "markdown",
   "id": "7c4c1fcb-1ef1-4f7f-99c1-e2ffe6389e4a",
   "metadata": {},
   "source": [
    "data set : https://drive.google.com/file/d/1Z9oLpmt6IDRNw7IeNcHYTGeJRYypRSC0/view?usp=share_link"
   ]
  },
  {
   "cell_type": "markdown",
   "id": "2f661dd5-1d30-46ee-8745-a176e0fe3622",
   "metadata": {},
   "source": [
    "The SVM Regression model, which means Support Vector Meachine Regression model is known for distniguishing the data points into the categories by the hyper plain such that the dependent faeture can be predicted. For calculating the accuracy and finding the error in this distribution can be done by sevral ways. These ways to calculating the performance of the SVM regression model are shown below :\n",
    "\n",
    "**Mean Squred Error (MSE)** : It is used for Calculating the average of the squared differences between predicted and actual values. In this method equation is also differentiable but in such a case of Bengaluru_House_dataset, when there are so many outliers in the dependent feature ; 'Price' . It is not so suitable to use as it has no any feature of rebusting Outliers.\n",
    "\n",
    "**Mean Absolute Error (MAE)** : MAE is similler to the mse, However it has some feature which are not in the MSE , as it is rebusting the outliers . Which is good for our Bengaluru_House_dataset , where are many outliers it(MAE) is good to use. There are one more advantage of MSE, that it always be in a same unit. However it takes more time as our data set has too big (it has 13339 entries)\n",
    "\n",
    "**Rout Mean Squared Error (RMSE)** : RMSE is just a square root of MSE . It can also be proved as a benificial for calculating the performance of the model of Begaluru_House_Dataset as RMSE can be sensitive to outliers. Outliers with large errors can significantly impact the RMSE value.\n",
    "\n",
    "**R square and Adjusted Rsquare** :can also be a option but R 2 is sensitive to the scale of the dependent variable, and it may not be a good metric for models with categorical outcomes. It always ranges between 0 to 1. with 1 being a perfect fit.\n",
    "\n",
    "Important Point to note that MSE , MAE and RMSE are the error values of the model so if these values are higher, it convet the bad indicator as the accuracy of the model is low. and in the case of R Square , the value is the magnitude of accuracy so higher R square means higher accuracy of the model. "
   ]
  },
  {
   "cell_type": "markdown",
   "id": "97a5e21f-251f-48ba-bd80-444f8cdcbe73",
   "metadata": {},
   "source": [
    "# Q2. You have built an SVM regression model and are trying to decide between using MSE or R-squared as your evaluation metric. Which metric would be more appropriate if your goal is to predict the actual price of a house as accurately as possible?"
   ]
  },
  {
   "cell_type": "markdown",
   "id": "4896da8f-1dff-4e46-aab9-a127d72e5df1",
   "metadata": {},
   "source": [
    "As above , we already discussed in detail . Here we need to know that  MSE is an absolute measure of error, while R square is a relative measure of goodness of fit. and that is why they both are inversly proportional to each other. Genreally both of matrix are used in this specific dataset however by our need or demand we can use the matrix as MSE is an absolute measure of the average squared difference between predicted and actual values. Use MSE when you want to directly measure the magnitude of errors in your predictions."
   ]
  },
  {
   "cell_type": "markdown",
   "id": "c3e26c6e-a0bd-4c7e-80cf-89a2cc4bb702",
   "metadata": {},
   "source": [
    "# Q3. You have a dataset with a significant number of outliers and are trying to select an appropriate regression metric to use with your SVM model. Which metric would be the most appropriate in this scenario?"
   ]
  },
  {
   "cell_type": "markdown",
   "id": "b4785cce-bff3-4de5-843c-ff77efc672c8",
   "metadata": {},
   "source": [
    "Mean Absolute Error (MAE)"
   ]
  },
  {
   "cell_type": "markdown",
   "id": "6f7d5d02-635d-4020-85db-2ce930c9373f",
   "metadata": {},
   "source": [
    "# Q4. You have built an SVM regression model using a polynomial kernel and are trying to select the best metric to evaluate its performance. You have calculated both MSE and RMSE and found that both values are very close. Which metric should you choose to use in this case?"
   ]
  },
  {
   "cell_type": "markdown",
   "id": "5205bfcb-210d-4a90-8d71-3ecaad5acd56",
   "metadata": {},
   "source": [
    "RMSE is just a squre root of MSE.If we are at a situtaion where the value of MSE and RMSE are vary close then we need to go according to our needs and situations as \n",
    "- if the data set has many outliers we shoud go for Rmse\n",
    "- RMSE may be more suitable if you want a metric that is less sensitive to extreme errors.\n",
    "- If we want to be more sensitive to all errors, including smaller ones, MSE might be appropriate"
   ]
  },
  {
   "cell_type": "markdown",
   "id": "b9607233-0e48-464d-8902-31abfcd9434c",
   "metadata": {},
   "source": [
    "# Q5. You are comparing the performance of different SVM regression models using different kernels (linear,polynomial, and RBF) and are trying to select the best evaluation metric. Which metric would be mostappropriate if your goal is to measure how well the model explains the variance in the target variable?"
   ]
  },
  {
   "cell_type": "markdown",
   "id": "cebf3930-8601-45c6-8ad6-ebbe22d561df",
   "metadata": {},
   "source": [
    "If our goal is to measure how well the model explains the variance in the target variable then we should always prefer R square **( coefficient of determination )** matrix as it is the measure of fitness of the model, which ranges 0 to 1 , where 0 means model does not explain any of the variance in the target variable, and 1 indicates that the model explains all of the variance in the target variable.In the context of SVM regression models with different kernels (linear, polynomial, and RBF), we can calculate R square to assess how well each model captures the variance in the target variable. A higher R Square value indicates a better fit and better explanatory power."
   ]
  },
  {
   "cell_type": "code",
   "execution_count": null,
   "id": "a4f4067b-ea80-4291-bebf-4af4fa400227",
   "metadata": {},
   "outputs": [],
   "source": []
  }
 ],
 "metadata": {
  "kernelspec": {
   "display_name": "Python 3 (ipykernel)",
   "language": "python",
   "name": "python3"
  },
  "language_info": {
   "codemirror_mode": {
    "name": "ipython",
    "version": 3
   },
   "file_extension": ".py",
   "mimetype": "text/x-python",
   "name": "python",
   "nbconvert_exporter": "python",
   "pygments_lexer": "ipython3",
   "version": "3.10.8"
  }
 },
 "nbformat": 4,
 "nbformat_minor": 5
}
